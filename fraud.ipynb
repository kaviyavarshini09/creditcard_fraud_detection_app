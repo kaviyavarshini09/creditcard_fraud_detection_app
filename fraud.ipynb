{
 "cells": [
  {
   "cell_type": "code",
   "execution_count": 8,
   "id": "f12fc1f7-f084-4ac2-acea-0b126e0fb468",
   "metadata": {},
   "outputs": [],
   "source": [
    "import pandas as pd\n",
    "import numpy as np\n",
    "import matplotlib.pyplot as plt\n",
    "import seaborn as sns\n",
    "\n",
    "from sklearn.model_selection import train_test_split\n",
    "from sklearn.preprocessing import StandardScaler\n",
    "from sklearn.metrics import classification_report, confusion_matrix, roc_curve, auc\n",
    "\n",
    "from xgboost import XGBClassifier\n",
    "import pickle\n"
   ]
  },
  {
   "cell_type": "code",
   "execution_count": 9,
   "id": "cc314be8-4e20-46d7-819c-ff486c9bea46",
   "metadata": {},
   "outputs": [
    {
     "data": {
      "text/plain": [
       "Class\n",
       "0    284315\n",
       "1       492\n",
       "Name: count, dtype: int64"
      ]
     },
     "execution_count": 9,
     "metadata": {},
     "output_type": "execute_result"
    }
   ],
   "source": [
    "df = pd.read_csv('creditcard.csv')\n",
    "df.head()\n",
    "df['Class'].value_counts()\n"
   ]
  },
  {
   "cell_type": "code",
   "execution_count": 10,
   "id": "f5e21994-acfa-48c0-9eb7-8adaaae3b9ad",
   "metadata": {},
   "outputs": [],
   "source": [
    "# Scale Amount and Time\n",
    "scaler = StandardScaler()\n",
    "df['normalizedAmount'] = scaler.fit_transform(df['Amount'].values.reshape(-1, 1))\n",
    "df['normalizedTime'] = scaler.fit_transform(df['Time'].values.reshape(-1, 1))\n",
    "\n",
    "# Drop old columns\n",
    "df = df.drop(['Amount', 'Time'], axis=1)\n",
    "\n",
    "# Handle imbalance by undersampling\n",
    "fraud = df[df['Class'] == 1]\n",
    "non_fraud = df[df['Class'] == 0][:len(fraud)]\n",
    "data = pd.concat([fraud, non_fraud])\n",
    "\n",
    "# Shuffle\n",
    "data = data.sample(frac=1)\n"
   ]
  },
  {
   "cell_type": "code",
   "execution_count": 13,
   "id": "ca836acb-8f42-4cc7-a682-c7b00b73f977",
   "metadata": {},
   "outputs": [],
   "source": [
    "X = data.drop('Class', axis=1)\n",
    "y = data['Class']\n",
    "\n",
    "X_train, X_test, y_train, y_test = train_test_split(X, y, test_size=0.2, random_state=42)\n",
    "\n",
    "model = XGBClassifier()\n",
    "model.fit(X_train, y_train)\n",
    "import os\n",
    "\n",
    "# Create 'model' folder if it doesn't exist\n",
    "if not os.path.exists('model'):\n",
    "    os.makedirs('model')\n",
    "\n",
    "# Save the model\n",
    "pickle.dump(model, open(\"model/xgb_model.pkl\", \"wb\"))\n",
    "\n",
    "\n",
    "# Save model\n",
    "pickle.dump(model, open(\"model/xgb_model.pkl\", \"wb\"))\n"
   ]
  },
  {
   "cell_type": "code",
   "execution_count": 14,
   "id": "8994c654-197b-43f3-803b-077f4edbfa78",
   "metadata": {},
   "outputs": [
    {
     "name": "stdout",
     "output_type": "stream",
     "text": [
      "✅ Model saved successfully!\n"
     ]
    }
   ],
   "source": [
    "import os\n",
    "\n",
    "if os.path.exists(\"model/xgb_model.pkl\"):\n",
    "    print(\"✅ Model saved successfully!\")\n",
    "else:\n",
    "    print(\"❌ Model not saved.\")\n"
   ]
  },
  {
   "cell_type": "code",
   "execution_count": 15,
   "id": "3bf2752b-7092-4c4d-aefe-ec33625d8ad1",
   "metadata": {},
   "outputs": [
    {
     "name": "stdout",
     "output_type": "stream",
     "text": [
      "C:\\Users\\KAVIYA VARSHINI S\n"
     ]
    }
   ],
   "source": [
    "import os\n",
    "print(os.getcwd())\n"
   ]
  },
  {
   "cell_type": "code",
   "execution_count": 16,
   "id": "199afeb8-7ae6-4ab1-adef-25c3931ea777",
   "metadata": {},
   "outputs": [
    {
     "name": "stdout",
     "output_type": "stream",
     "text": [
      "Files inside 'model/' folder:\n",
      "['xgb_model.pkl']\n"
     ]
    }
   ],
   "source": [
    "import os\n",
    "\n",
    "print(\"Files inside 'model/' folder:\")\n",
    "print(os.listdir('model'))\n"
   ]
  },
  {
   "cell_type": "code",
   "execution_count": 17,
   "id": "588259b3-ede8-4313-99c8-184cf1d8eb6f",
   "metadata": {},
   "outputs": [
    {
     "name": "stdout",
     "output_type": "stream",
     "text": [
      "✅ Model saved at: C:\\Users\\KAVIYA VARSHINI S\\model\\xgb_model.pkl\n"
     ]
    }
   ],
   "source": [
    "import os\n",
    "\n",
    "model_path = os.path.join(os.getcwd(), \"model\", \"xgb_model.pkl\")\n",
    "pickle.dump(model, open(model_path, \"wb\"))\n",
    "print(f\"✅ Model saved at: {model_path}\")\n"
   ]
  },
  {
   "cell_type": "code",
   "execution_count": null,
   "id": "a88bc6cc-fe1c-4c17-bef3-312d2f409df5",
   "metadata": {},
   "outputs": [],
   "source": []
  }
 ],
 "metadata": {
  "kernelspec": {
   "display_name": "Python 3 (ipykernel)",
   "language": "python",
   "name": "python3"
  },
  "language_info": {
   "codemirror_mode": {
    "name": "ipython",
    "version": 3
   },
   "file_extension": ".py",
   "mimetype": "text/x-python",
   "name": "python",
   "nbconvert_exporter": "python",
   "pygments_lexer": "ipython3",
   "version": "3.12.7"
  }
 },
 "nbformat": 4,
 "nbformat_minor": 5
}
